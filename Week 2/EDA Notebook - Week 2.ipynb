{
 "cells": [
  {
   "cell_type": "markdown",
   "id": "763a5aaf",
   "metadata": {},
   "source": [
    "# EDA Notebooks - Week 2"
   ]
  },
  {
   "cell_type": "markdown",
   "id": "5d9a83d7",
   "metadata": {},
   "source": [
    "#### Name: Mustafa Fakhra"
   ]
  },
  {
   "cell_type": "markdown",
   "id": "d4add41d",
   "metadata": {},
   "source": [
    "#### Email: mostafafakhra@hotmail.com"
   ]
  },
  {
   "cell_type": "markdown",
   "id": "10ff919e",
   "metadata": {},
   "source": [
    "#### Country: UAE, Dubai"
   ]
  },
  {
   "cell_type": "markdown",
   "id": "b9c73f82",
   "metadata": {},
   "source": [
    "XYZ is a private firm in US. Due to remarkable growth in the Cab Industry in last few years and multiplekey players in the market, it is planning for an investment in Cab industry and as per their Go-to-Market(G2M) strategy they want to understand the market before taking final decision."
   ]
  },
  {
   "cell_type": "markdown",
   "id": "6092297a",
   "metadata": {},
   "source": [
    "## Datasets & Libraries Importing"
   ]
  },
  {
   "cell_type": "code",
   "execution_count": 1,
   "id": "c6dad118",
   "metadata": {},
   "outputs": [],
   "source": [
    "import pandas as pd\n",
    "import numpy as np\n",
    "import matplotlib.pyplot as mp\n",
    "import seaborn as sb\n",
    "import datetime\n",
    "\n",
    "city = pd.read_csv(\"City.csv\")\n",
    "cabdata = pd.read_csv(\"Cab_Data.csv\")\n",
    "customers = pd.read_csv(\"Customer_ID.csv\")\n",
    "transactions = pd.read_csv(\"Transaction_ID.csv\")"
   ]
  },
  {
   "cell_type": "markdown",
   "id": "c41146de",
   "metadata": {},
   "source": [
    "## Understand the Field Names & Data Types"
   ]
  },
  {
   "cell_type": "code",
   "execution_count": 3,
   "id": "ec3039a1",
   "metadata": {},
   "outputs": [
    {
     "data": {
      "text/html": [
       "<div>\n",
       "<style scoped>\n",
       "    .dataframe tbody tr th:only-of-type {\n",
       "        vertical-align: middle;\n",
       "    }\n",
       "\n",
       "    .dataframe tbody tr th {\n",
       "        vertical-align: top;\n",
       "    }\n",
       "\n",
       "    .dataframe thead th {\n",
       "        text-align: right;\n",
       "    }\n",
       "</style>\n",
       "<table border=\"1\" class=\"dataframe\">\n",
       "  <thead>\n",
       "    <tr style=\"text-align: right;\">\n",
       "      <th></th>\n",
       "      <th>City</th>\n",
       "      <th>Population</th>\n",
       "      <th>Users</th>\n",
       "    </tr>\n",
       "  </thead>\n",
       "  <tbody>\n",
       "    <tr>\n",
       "      <th>0</th>\n",
       "      <td>NEW YORK NY</td>\n",
       "      <td>8,405,837</td>\n",
       "      <td>302,149</td>\n",
       "    </tr>\n",
       "    <tr>\n",
       "      <th>1</th>\n",
       "      <td>CHICAGO IL</td>\n",
       "      <td>1,955,130</td>\n",
       "      <td>164,468</td>\n",
       "    </tr>\n",
       "    <tr>\n",
       "      <th>2</th>\n",
       "      <td>LOS ANGELES CA</td>\n",
       "      <td>1,595,037</td>\n",
       "      <td>144,132</td>\n",
       "    </tr>\n",
       "    <tr>\n",
       "      <th>3</th>\n",
       "      <td>MIAMI FL</td>\n",
       "      <td>1,339,155</td>\n",
       "      <td>17,675</td>\n",
       "    </tr>\n",
       "    <tr>\n",
       "      <th>4</th>\n",
       "      <td>SILICON VALLEY</td>\n",
       "      <td>1,177,609</td>\n",
       "      <td>27,247</td>\n",
       "    </tr>\n",
       "  </tbody>\n",
       "</table>\n",
       "</div>"
      ],
      "text/plain": [
       "             City   Population      Users\n",
       "0     NEW YORK NY   8,405,837    302,149 \n",
       "1      CHICAGO IL   1,955,130    164,468 \n",
       "2  LOS ANGELES CA   1,595,037    144,132 \n",
       "3        MIAMI FL   1,339,155     17,675 \n",
       "4  SILICON VALLEY   1,177,609     27,247 "
      ]
     },
     "execution_count": 3,
     "metadata": {},
     "output_type": "execute_result"
    }
   ],
   "source": [
    "city.head()"
   ]
  },
  {
   "cell_type": "code",
   "execution_count": 9,
   "id": "c2569b2b",
   "metadata": {},
   "outputs": [
    {
     "name": "stdout",
     "output_type": "stream",
     "text": [
      "<class 'pandas.core.frame.DataFrame'>\n",
      "RangeIndex: 20 entries, 0 to 19\n",
      "Data columns (total 3 columns):\n",
      " #   Column      Non-Null Count  Dtype \n",
      "---  ------      --------------  ----- \n",
      " 0   City        20 non-null     object\n",
      " 1   Population  20 non-null     object\n",
      " 2   Users       20 non-null     object\n",
      "dtypes: object(3)\n",
      "memory usage: 608.0+ bytes\n"
     ]
    }
   ],
   "source": [
    "city.info()"
   ]
  },
  {
   "cell_type": "code",
   "execution_count": 10,
   "id": "71a4939b",
   "metadata": {},
   "outputs": [
    {
     "data": {
      "text/html": [
       "<div>\n",
       "<style scoped>\n",
       "    .dataframe tbody tr th:only-of-type {\n",
       "        vertical-align: middle;\n",
       "    }\n",
       "\n",
       "    .dataframe tbody tr th {\n",
       "        vertical-align: top;\n",
       "    }\n",
       "\n",
       "    .dataframe thead th {\n",
       "        text-align: right;\n",
       "    }\n",
       "</style>\n",
       "<table border=\"1\" class=\"dataframe\">\n",
       "  <thead>\n",
       "    <tr style=\"text-align: right;\">\n",
       "      <th></th>\n",
       "      <th>City</th>\n",
       "      <th>Population</th>\n",
       "      <th>Users</th>\n",
       "    </tr>\n",
       "  </thead>\n",
       "  <tbody>\n",
       "    <tr>\n",
       "      <th>count</th>\n",
       "      <td>20</td>\n",
       "      <td>20</td>\n",
       "      <td>20</td>\n",
       "    </tr>\n",
       "    <tr>\n",
       "      <th>unique</th>\n",
       "      <td>20</td>\n",
       "      <td>20</td>\n",
       "      <td>20</td>\n",
       "    </tr>\n",
       "    <tr>\n",
       "      <th>top</th>\n",
       "      <td>NEW YORK NY</td>\n",
       "      <td>8,405,837</td>\n",
       "      <td>302,149</td>\n",
       "    </tr>\n",
       "    <tr>\n",
       "      <th>freq</th>\n",
       "      <td>1</td>\n",
       "      <td>1</td>\n",
       "      <td>1</td>\n",
       "    </tr>\n",
       "  </tbody>\n",
       "</table>\n",
       "</div>"
      ],
      "text/plain": [
       "               City   Population      Users\n",
       "count            20           20         20\n",
       "unique           20           20         20\n",
       "top     NEW YORK NY   8,405,837    302,149 \n",
       "freq              1            1          1"
      ]
     },
     "execution_count": 10,
     "metadata": {},
     "output_type": "execute_result"
    }
   ],
   "source": [
    "city.describe()"
   ]
  },
  {
   "cell_type": "code",
   "execution_count": 4,
   "id": "59d5d5c2",
   "metadata": {},
   "outputs": [
    {
     "data": {
      "text/html": [
       "<div>\n",
       "<style scoped>\n",
       "    .dataframe tbody tr th:only-of-type {\n",
       "        vertical-align: middle;\n",
       "    }\n",
       "\n",
       "    .dataframe tbody tr th {\n",
       "        vertical-align: top;\n",
       "    }\n",
       "\n",
       "    .dataframe thead th {\n",
       "        text-align: right;\n",
       "    }\n",
       "</style>\n",
       "<table border=\"1\" class=\"dataframe\">\n",
       "  <thead>\n",
       "    <tr style=\"text-align: right;\">\n",
       "      <th></th>\n",
       "      <th>Transaction ID</th>\n",
       "      <th>Date of Travel</th>\n",
       "      <th>Company</th>\n",
       "      <th>City</th>\n",
       "      <th>KM Travelled</th>\n",
       "      <th>Price Charged</th>\n",
       "      <th>Cost of Trip</th>\n",
       "    </tr>\n",
       "  </thead>\n",
       "  <tbody>\n",
       "    <tr>\n",
       "      <th>0</th>\n",
       "      <td>10000011</td>\n",
       "      <td>42377</td>\n",
       "      <td>Pink Cab</td>\n",
       "      <td>ATLANTA GA</td>\n",
       "      <td>30.45</td>\n",
       "      <td>370.95</td>\n",
       "      <td>313.635</td>\n",
       "    </tr>\n",
       "    <tr>\n",
       "      <th>1</th>\n",
       "      <td>10000012</td>\n",
       "      <td>42375</td>\n",
       "      <td>Pink Cab</td>\n",
       "      <td>ATLANTA GA</td>\n",
       "      <td>28.62</td>\n",
       "      <td>358.52</td>\n",
       "      <td>334.854</td>\n",
       "    </tr>\n",
       "    <tr>\n",
       "      <th>2</th>\n",
       "      <td>10000013</td>\n",
       "      <td>42371</td>\n",
       "      <td>Pink Cab</td>\n",
       "      <td>ATLANTA GA</td>\n",
       "      <td>9.04</td>\n",
       "      <td>125.20</td>\n",
       "      <td>97.632</td>\n",
       "    </tr>\n",
       "    <tr>\n",
       "      <th>3</th>\n",
       "      <td>10000014</td>\n",
       "      <td>42376</td>\n",
       "      <td>Pink Cab</td>\n",
       "      <td>ATLANTA GA</td>\n",
       "      <td>33.17</td>\n",
       "      <td>377.40</td>\n",
       "      <td>351.602</td>\n",
       "    </tr>\n",
       "    <tr>\n",
       "      <th>4</th>\n",
       "      <td>10000015</td>\n",
       "      <td>42372</td>\n",
       "      <td>Pink Cab</td>\n",
       "      <td>ATLANTA GA</td>\n",
       "      <td>8.73</td>\n",
       "      <td>114.62</td>\n",
       "      <td>97.776</td>\n",
       "    </tr>\n",
       "  </tbody>\n",
       "</table>\n",
       "</div>"
      ],
      "text/plain": [
       "   Transaction ID  Date of Travel   Company        City  KM Travelled  \\\n",
       "0        10000011           42377  Pink Cab  ATLANTA GA         30.45   \n",
       "1        10000012           42375  Pink Cab  ATLANTA GA         28.62   \n",
       "2        10000013           42371  Pink Cab  ATLANTA GA          9.04   \n",
       "3        10000014           42376  Pink Cab  ATLANTA GA         33.17   \n",
       "4        10000015           42372  Pink Cab  ATLANTA GA          8.73   \n",
       "\n",
       "   Price Charged  Cost of Trip  \n",
       "0         370.95       313.635  \n",
       "1         358.52       334.854  \n",
       "2         125.20        97.632  \n",
       "3         377.40       351.602  \n",
       "4         114.62        97.776  "
      ]
     },
     "execution_count": 4,
     "metadata": {},
     "output_type": "execute_result"
    }
   ],
   "source": [
    "cabdata.head()"
   ]
  },
  {
   "cell_type": "code",
   "execution_count": 11,
   "id": "0c8bd64b",
   "metadata": {},
   "outputs": [
    {
     "name": "stdout",
     "output_type": "stream",
     "text": [
      "<class 'pandas.core.frame.DataFrame'>\n",
      "RangeIndex: 359392 entries, 0 to 359391\n",
      "Data columns (total 7 columns):\n",
      " #   Column          Non-Null Count   Dtype  \n",
      "---  ------          --------------   -----  \n",
      " 0   Transaction ID  359392 non-null  int64  \n",
      " 1   Date of Travel  359392 non-null  int64  \n",
      " 2   Company         359392 non-null  object \n",
      " 3   City            359392 non-null  object \n",
      " 4   KM Travelled    359392 non-null  float64\n",
      " 5   Price Charged   359392 non-null  float64\n",
      " 6   Cost of Trip    359392 non-null  float64\n",
      "dtypes: float64(3), int64(2), object(2)\n",
      "memory usage: 19.2+ MB\n"
     ]
    }
   ],
   "source": [
    "cabdata.info()"
   ]
  },
  {
   "cell_type": "code",
   "execution_count": 12,
   "id": "458ab9bf",
   "metadata": {},
   "outputs": [
    {
     "data": {
      "text/html": [
       "<div>\n",
       "<style scoped>\n",
       "    .dataframe tbody tr th:only-of-type {\n",
       "        vertical-align: middle;\n",
       "    }\n",
       "\n",
       "    .dataframe tbody tr th {\n",
       "        vertical-align: top;\n",
       "    }\n",
       "\n",
       "    .dataframe thead th {\n",
       "        text-align: right;\n",
       "    }\n",
       "</style>\n",
       "<table border=\"1\" class=\"dataframe\">\n",
       "  <thead>\n",
       "    <tr style=\"text-align: right;\">\n",
       "      <th></th>\n",
       "      <th>Transaction ID</th>\n",
       "      <th>Date of Travel</th>\n",
       "      <th>KM Travelled</th>\n",
       "      <th>Price Charged</th>\n",
       "      <th>Cost of Trip</th>\n",
       "    </tr>\n",
       "  </thead>\n",
       "  <tbody>\n",
       "    <tr>\n",
       "      <th>count</th>\n",
       "      <td>3.593920e+05</td>\n",
       "      <td>359392.000000</td>\n",
       "      <td>359392.000000</td>\n",
       "      <td>359392.000000</td>\n",
       "      <td>359392.000000</td>\n",
       "    </tr>\n",
       "    <tr>\n",
       "      <th>mean</th>\n",
       "      <td>1.022076e+07</td>\n",
       "      <td>42964.067998</td>\n",
       "      <td>22.567254</td>\n",
       "      <td>423.443311</td>\n",
       "      <td>286.190113</td>\n",
       "    </tr>\n",
       "    <tr>\n",
       "      <th>std</th>\n",
       "      <td>1.268058e+05</td>\n",
       "      <td>307.467197</td>\n",
       "      <td>12.233526</td>\n",
       "      <td>274.378911</td>\n",
       "      <td>157.993661</td>\n",
       "    </tr>\n",
       "    <tr>\n",
       "      <th>min</th>\n",
       "      <td>1.000001e+07</td>\n",
       "      <td>42371.000000</td>\n",
       "      <td>1.900000</td>\n",
       "      <td>15.600000</td>\n",
       "      <td>19.000000</td>\n",
       "    </tr>\n",
       "    <tr>\n",
       "      <th>25%</th>\n",
       "      <td>1.011081e+07</td>\n",
       "      <td>42697.000000</td>\n",
       "      <td>12.000000</td>\n",
       "      <td>206.437500</td>\n",
       "      <td>151.200000</td>\n",
       "    </tr>\n",
       "    <tr>\n",
       "      <th>50%</th>\n",
       "      <td>1.022104e+07</td>\n",
       "      <td>42988.000000</td>\n",
       "      <td>22.440000</td>\n",
       "      <td>386.360000</td>\n",
       "      <td>282.480000</td>\n",
       "    </tr>\n",
       "    <tr>\n",
       "      <th>75%</th>\n",
       "      <td>1.033094e+07</td>\n",
       "      <td>43232.000000</td>\n",
       "      <td>32.960000</td>\n",
       "      <td>583.660000</td>\n",
       "      <td>413.683200</td>\n",
       "    </tr>\n",
       "    <tr>\n",
       "      <th>max</th>\n",
       "      <td>1.044011e+07</td>\n",
       "      <td>43465.000000</td>\n",
       "      <td>48.000000</td>\n",
       "      <td>2048.030000</td>\n",
       "      <td>691.200000</td>\n",
       "    </tr>\n",
       "  </tbody>\n",
       "</table>\n",
       "</div>"
      ],
      "text/plain": [
       "       Transaction ID  Date of Travel   KM Travelled  Price Charged  \\\n",
       "count    3.593920e+05   359392.000000  359392.000000  359392.000000   \n",
       "mean     1.022076e+07    42964.067998      22.567254     423.443311   \n",
       "std      1.268058e+05      307.467197      12.233526     274.378911   \n",
       "min      1.000001e+07    42371.000000       1.900000      15.600000   \n",
       "25%      1.011081e+07    42697.000000      12.000000     206.437500   \n",
       "50%      1.022104e+07    42988.000000      22.440000     386.360000   \n",
       "75%      1.033094e+07    43232.000000      32.960000     583.660000   \n",
       "max      1.044011e+07    43465.000000      48.000000    2048.030000   \n",
       "\n",
       "        Cost of Trip  \n",
       "count  359392.000000  \n",
       "mean      286.190113  \n",
       "std       157.993661  \n",
       "min        19.000000  \n",
       "25%       151.200000  \n",
       "50%       282.480000  \n",
       "75%       413.683200  \n",
       "max       691.200000  "
      ]
     },
     "execution_count": 12,
     "metadata": {},
     "output_type": "execute_result"
    }
   ],
   "source": [
    "cabdata.describe()"
   ]
  },
  {
   "cell_type": "code",
   "execution_count": 5,
   "id": "961f603f",
   "metadata": {},
   "outputs": [
    {
     "data": {
      "text/html": [
       "<div>\n",
       "<style scoped>\n",
       "    .dataframe tbody tr th:only-of-type {\n",
       "        vertical-align: middle;\n",
       "    }\n",
       "\n",
       "    .dataframe tbody tr th {\n",
       "        vertical-align: top;\n",
       "    }\n",
       "\n",
       "    .dataframe thead th {\n",
       "        text-align: right;\n",
       "    }\n",
       "</style>\n",
       "<table border=\"1\" class=\"dataframe\">\n",
       "  <thead>\n",
       "    <tr style=\"text-align: right;\">\n",
       "      <th></th>\n",
       "      <th>Customer ID</th>\n",
       "      <th>Gender</th>\n",
       "      <th>Age</th>\n",
       "      <th>Income (USD/Month)</th>\n",
       "    </tr>\n",
       "  </thead>\n",
       "  <tbody>\n",
       "    <tr>\n",
       "      <th>0</th>\n",
       "      <td>29290</td>\n",
       "      <td>Male</td>\n",
       "      <td>28</td>\n",
       "      <td>10813</td>\n",
       "    </tr>\n",
       "    <tr>\n",
       "      <th>1</th>\n",
       "      <td>27703</td>\n",
       "      <td>Male</td>\n",
       "      <td>27</td>\n",
       "      <td>9237</td>\n",
       "    </tr>\n",
       "    <tr>\n",
       "      <th>2</th>\n",
       "      <td>28712</td>\n",
       "      <td>Male</td>\n",
       "      <td>53</td>\n",
       "      <td>11242</td>\n",
       "    </tr>\n",
       "    <tr>\n",
       "      <th>3</th>\n",
       "      <td>28020</td>\n",
       "      <td>Male</td>\n",
       "      <td>23</td>\n",
       "      <td>23327</td>\n",
       "    </tr>\n",
       "    <tr>\n",
       "      <th>4</th>\n",
       "      <td>27182</td>\n",
       "      <td>Male</td>\n",
       "      <td>33</td>\n",
       "      <td>8536</td>\n",
       "    </tr>\n",
       "  </tbody>\n",
       "</table>\n",
       "</div>"
      ],
      "text/plain": [
       "   Customer ID Gender  Age  Income (USD/Month)\n",
       "0        29290   Male   28               10813\n",
       "1        27703   Male   27                9237\n",
       "2        28712   Male   53               11242\n",
       "3        28020   Male   23               23327\n",
       "4        27182   Male   33                8536"
      ]
     },
     "execution_count": 5,
     "metadata": {},
     "output_type": "execute_result"
    }
   ],
   "source": [
    "customers.head()"
   ]
  },
  {
   "cell_type": "code",
   "execution_count": 13,
   "id": "216061df",
   "metadata": {},
   "outputs": [
    {
     "name": "stdout",
     "output_type": "stream",
     "text": [
      "<class 'pandas.core.frame.DataFrame'>\n",
      "RangeIndex: 49171 entries, 0 to 49170\n",
      "Data columns (total 4 columns):\n",
      " #   Column              Non-Null Count  Dtype \n",
      "---  ------              --------------  ----- \n",
      " 0   Customer ID         49171 non-null  int64 \n",
      " 1   Gender              49171 non-null  object\n",
      " 2   Age                 49171 non-null  int64 \n",
      " 3   Income (USD/Month)  49171 non-null  int64 \n",
      "dtypes: int64(3), object(1)\n",
      "memory usage: 1.5+ MB\n"
     ]
    }
   ],
   "source": [
    "customers.info()"
   ]
  },
  {
   "cell_type": "code",
   "execution_count": 14,
   "id": "50375978",
   "metadata": {},
   "outputs": [
    {
     "data": {
      "text/html": [
       "<div>\n",
       "<style scoped>\n",
       "    .dataframe tbody tr th:only-of-type {\n",
       "        vertical-align: middle;\n",
       "    }\n",
       "\n",
       "    .dataframe tbody tr th {\n",
       "        vertical-align: top;\n",
       "    }\n",
       "\n",
       "    .dataframe thead th {\n",
       "        text-align: right;\n",
       "    }\n",
       "</style>\n",
       "<table border=\"1\" class=\"dataframe\">\n",
       "  <thead>\n",
       "    <tr style=\"text-align: right;\">\n",
       "      <th></th>\n",
       "      <th>Customer ID</th>\n",
       "      <th>Age</th>\n",
       "      <th>Income (USD/Month)</th>\n",
       "    </tr>\n",
       "  </thead>\n",
       "  <tbody>\n",
       "    <tr>\n",
       "      <th>count</th>\n",
       "      <td>49171.000000</td>\n",
       "      <td>49171.000000</td>\n",
       "      <td>49171.000000</td>\n",
       "    </tr>\n",
       "    <tr>\n",
       "      <th>mean</th>\n",
       "      <td>28398.252283</td>\n",
       "      <td>35.363121</td>\n",
       "      <td>15015.631856</td>\n",
       "    </tr>\n",
       "    <tr>\n",
       "      <th>std</th>\n",
       "      <td>17714.137333</td>\n",
       "      <td>12.599066</td>\n",
       "      <td>8002.208253</td>\n",
       "    </tr>\n",
       "    <tr>\n",
       "      <th>min</th>\n",
       "      <td>1.000000</td>\n",
       "      <td>18.000000</td>\n",
       "      <td>2000.000000</td>\n",
       "    </tr>\n",
       "    <tr>\n",
       "      <th>25%</th>\n",
       "      <td>12654.500000</td>\n",
       "      <td>25.000000</td>\n",
       "      <td>8289.500000</td>\n",
       "    </tr>\n",
       "    <tr>\n",
       "      <th>50%</th>\n",
       "      <td>27631.000000</td>\n",
       "      <td>33.000000</td>\n",
       "      <td>14656.000000</td>\n",
       "    </tr>\n",
       "    <tr>\n",
       "      <th>75%</th>\n",
       "      <td>43284.500000</td>\n",
       "      <td>42.000000</td>\n",
       "      <td>21035.000000</td>\n",
       "    </tr>\n",
       "    <tr>\n",
       "      <th>max</th>\n",
       "      <td>60000.000000</td>\n",
       "      <td>65.000000</td>\n",
       "      <td>35000.000000</td>\n",
       "    </tr>\n",
       "  </tbody>\n",
       "</table>\n",
       "</div>"
      ],
      "text/plain": [
       "        Customer ID           Age  Income (USD/Month)\n",
       "count  49171.000000  49171.000000        49171.000000\n",
       "mean   28398.252283     35.363121        15015.631856\n",
       "std    17714.137333     12.599066         8002.208253\n",
       "min        1.000000     18.000000         2000.000000\n",
       "25%    12654.500000     25.000000         8289.500000\n",
       "50%    27631.000000     33.000000        14656.000000\n",
       "75%    43284.500000     42.000000        21035.000000\n",
       "max    60000.000000     65.000000        35000.000000"
      ]
     },
     "execution_count": 14,
     "metadata": {},
     "output_type": "execute_result"
    }
   ],
   "source": [
    "customers.describe()"
   ]
  },
  {
   "cell_type": "code",
   "execution_count": 6,
   "id": "825a4c11",
   "metadata": {},
   "outputs": [
    {
     "data": {
      "text/html": [
       "<div>\n",
       "<style scoped>\n",
       "    .dataframe tbody tr th:only-of-type {\n",
       "        vertical-align: middle;\n",
       "    }\n",
       "\n",
       "    .dataframe tbody tr th {\n",
       "        vertical-align: top;\n",
       "    }\n",
       "\n",
       "    .dataframe thead th {\n",
       "        text-align: right;\n",
       "    }\n",
       "</style>\n",
       "<table border=\"1\" class=\"dataframe\">\n",
       "  <thead>\n",
       "    <tr style=\"text-align: right;\">\n",
       "      <th></th>\n",
       "      <th>Transaction ID</th>\n",
       "      <th>Customer ID</th>\n",
       "      <th>Payment_Mode</th>\n",
       "    </tr>\n",
       "  </thead>\n",
       "  <tbody>\n",
       "    <tr>\n",
       "      <th>0</th>\n",
       "      <td>10000011</td>\n",
       "      <td>29290</td>\n",
       "      <td>Card</td>\n",
       "    </tr>\n",
       "    <tr>\n",
       "      <th>1</th>\n",
       "      <td>10000012</td>\n",
       "      <td>27703</td>\n",
       "      <td>Card</td>\n",
       "    </tr>\n",
       "    <tr>\n",
       "      <th>2</th>\n",
       "      <td>10000013</td>\n",
       "      <td>28712</td>\n",
       "      <td>Cash</td>\n",
       "    </tr>\n",
       "    <tr>\n",
       "      <th>3</th>\n",
       "      <td>10000014</td>\n",
       "      <td>28020</td>\n",
       "      <td>Cash</td>\n",
       "    </tr>\n",
       "    <tr>\n",
       "      <th>4</th>\n",
       "      <td>10000015</td>\n",
       "      <td>27182</td>\n",
       "      <td>Card</td>\n",
       "    </tr>\n",
       "  </tbody>\n",
       "</table>\n",
       "</div>"
      ],
      "text/plain": [
       "   Transaction ID  Customer ID Payment_Mode\n",
       "0        10000011        29290         Card\n",
       "1        10000012        27703         Card\n",
       "2        10000013        28712         Cash\n",
       "3        10000014        28020         Cash\n",
       "4        10000015        27182         Card"
      ]
     },
     "execution_count": 6,
     "metadata": {},
     "output_type": "execute_result"
    }
   ],
   "source": [
    "transactions.head()"
   ]
  },
  {
   "cell_type": "code",
   "execution_count": 15,
   "id": "05d238e7",
   "metadata": {},
   "outputs": [
    {
     "name": "stdout",
     "output_type": "stream",
     "text": [
      "<class 'pandas.core.frame.DataFrame'>\n",
      "RangeIndex: 440098 entries, 0 to 440097\n",
      "Data columns (total 3 columns):\n",
      " #   Column          Non-Null Count   Dtype \n",
      "---  ------          --------------   ----- \n",
      " 0   Transaction ID  440098 non-null  int64 \n",
      " 1   Customer ID     440098 non-null  int64 \n",
      " 2   Payment_Mode    440098 non-null  object\n",
      "dtypes: int64(2), object(1)\n",
      "memory usage: 10.1+ MB\n"
     ]
    }
   ],
   "source": [
    "transactions.info()"
   ]
  },
  {
   "cell_type": "code",
   "execution_count": 16,
   "id": "ed941d12",
   "metadata": {},
   "outputs": [
    {
     "data": {
      "text/html": [
       "<div>\n",
       "<style scoped>\n",
       "    .dataframe tbody tr th:only-of-type {\n",
       "        vertical-align: middle;\n",
       "    }\n",
       "\n",
       "    .dataframe tbody tr th {\n",
       "        vertical-align: top;\n",
       "    }\n",
       "\n",
       "    .dataframe thead th {\n",
       "        text-align: right;\n",
       "    }\n",
       "</style>\n",
       "<table border=\"1\" class=\"dataframe\">\n",
       "  <thead>\n",
       "    <tr style=\"text-align: right;\">\n",
       "      <th></th>\n",
       "      <th>Transaction ID</th>\n",
       "      <th>Customer ID</th>\n",
       "    </tr>\n",
       "  </thead>\n",
       "  <tbody>\n",
       "    <tr>\n",
       "      <th>count</th>\n",
       "      <td>4.400980e+05</td>\n",
       "      <td>440098.000000</td>\n",
       "    </tr>\n",
       "    <tr>\n",
       "      <th>mean</th>\n",
       "      <td>1.022006e+07</td>\n",
       "      <td>23619.513120</td>\n",
       "    </tr>\n",
       "    <tr>\n",
       "      <th>std</th>\n",
       "      <td>1.270455e+05</td>\n",
       "      <td>21195.549816</td>\n",
       "    </tr>\n",
       "    <tr>\n",
       "      <th>min</th>\n",
       "      <td>1.000001e+07</td>\n",
       "      <td>1.000000</td>\n",
       "    </tr>\n",
       "    <tr>\n",
       "      <th>25%</th>\n",
       "      <td>1.011004e+07</td>\n",
       "      <td>3530.000000</td>\n",
       "    </tr>\n",
       "    <tr>\n",
       "      <th>50%</th>\n",
       "      <td>1.022006e+07</td>\n",
       "      <td>15168.000000</td>\n",
       "    </tr>\n",
       "    <tr>\n",
       "      <th>75%</th>\n",
       "      <td>1.033008e+07</td>\n",
       "      <td>43884.000000</td>\n",
       "    </tr>\n",
       "    <tr>\n",
       "      <th>max</th>\n",
       "      <td>1.044011e+07</td>\n",
       "      <td>60000.000000</td>\n",
       "    </tr>\n",
       "  </tbody>\n",
       "</table>\n",
       "</div>"
      ],
      "text/plain": [
       "       Transaction ID    Customer ID\n",
       "count    4.400980e+05  440098.000000\n",
       "mean     1.022006e+07   23619.513120\n",
       "std      1.270455e+05   21195.549816\n",
       "min      1.000001e+07       1.000000\n",
       "25%      1.011004e+07    3530.000000\n",
       "50%      1.022006e+07   15168.000000\n",
       "75%      1.033008e+07   43884.000000\n",
       "max      1.044011e+07   60000.000000"
      ]
     },
     "execution_count": 16,
     "metadata": {},
     "output_type": "execute_result"
    }
   ],
   "source": [
    "transactions.describe()"
   ]
  },
  {
   "cell_type": "markdown",
   "id": "4dc76956",
   "metadata": {},
   "source": [
    "## Data Merging & Relationships "
   ]
  },
  {
   "cell_type": "code",
   "execution_count": 20,
   "id": "ff1368a2",
   "metadata": {},
   "outputs": [],
   "source": [
    "data_merge = pd.merge(\n",
    "    cabdata,\n",
    "    transactions,\n",
    "    left_on = 'Transaction ID',\n",
    "    right_on = 'Transaction ID',\n",
    "    validate = 'one_to_one'\n",
    "  )"
   ]
  },
  {
   "cell_type": "code",
   "execution_count": 21,
   "id": "0d9a51c8",
   "metadata": {},
   "outputs": [],
   "source": [
    "main_dataset = pd.merge(\n",
    "  data_merge,\n",
    "  customers,\n",
    "  on = 'Customer ID',\n",
    "  validate = 'many_to_one'\n",
    ").sort_values(\n",
    "  by = ['Date of Travel', 'Customer ID']\n",
    ")"
   ]
  },
  {
   "cell_type": "code",
   "execution_count": 22,
   "id": "bf0bd9be",
   "metadata": {},
   "outputs": [
    {
     "data": {
      "text/html": [
       "<div>\n",
       "<style scoped>\n",
       "    .dataframe tbody tr th:only-of-type {\n",
       "        vertical-align: middle;\n",
       "    }\n",
       "\n",
       "    .dataframe tbody tr th {\n",
       "        vertical-align: top;\n",
       "    }\n",
       "\n",
       "    .dataframe thead th {\n",
       "        text-align: right;\n",
       "    }\n",
       "</style>\n",
       "<table border=\"1\" class=\"dataframe\">\n",
       "  <thead>\n",
       "    <tr style=\"text-align: right;\">\n",
       "      <th></th>\n",
       "      <th>Transaction ID</th>\n",
       "      <th>Date of Travel</th>\n",
       "      <th>Company</th>\n",
       "      <th>City</th>\n",
       "      <th>KM Travelled</th>\n",
       "      <th>Price Charged</th>\n",
       "      <th>Cost of Trip</th>\n",
       "      <th>Customer ID</th>\n",
       "      <th>Payment_Mode</th>\n",
       "      <th>Gender</th>\n",
       "      <th>Age</th>\n",
       "      <th>Income (USD/Month)</th>\n",
       "    </tr>\n",
       "  </thead>\n",
       "  <tbody>\n",
       "    <tr>\n",
       "      <th>10422</th>\n",
       "      <td>10000845</td>\n",
       "      <td>42371</td>\n",
       "      <td>Yellow Cab</td>\n",
       "      <td>NEW YORK NY</td>\n",
       "      <td>17.92</td>\n",
       "      <td>561.71</td>\n",
       "      <td>253.7472</td>\n",
       "      <td>9</td>\n",
       "      <td>Card</td>\n",
       "      <td>Male</td>\n",
       "      <td>32</td>\n",
       "      <td>21212</td>\n",
       "    </tr>\n",
       "    <tr>\n",
       "      <th>14242</th>\n",
       "      <td>10000961</td>\n",
       "      <td>42371</td>\n",
       "      <td>Yellow Cab</td>\n",
       "      <td>NEW YORK NY</td>\n",
       "      <td>19.04</td>\n",
       "      <td>634.46</td>\n",
       "      <td>253.6128</td>\n",
       "      <td>85</td>\n",
       "      <td>Card</td>\n",
       "      <td>Male</td>\n",
       "      <td>19</td>\n",
       "      <td>19765</td>\n",
       "    </tr>\n",
       "    <tr>\n",
       "      <th>13252</th>\n",
       "      <td>10000929</td>\n",
       "      <td>42371</td>\n",
       "      <td>Yellow Cab</td>\n",
       "      <td>NEW YORK NY</td>\n",
       "      <td>37.24</td>\n",
       "      <td>1065.31</td>\n",
       "      <td>536.2560</td>\n",
       "      <td>439</td>\n",
       "      <td>Cash</td>\n",
       "      <td>Male</td>\n",
       "      <td>22</td>\n",
       "      <td>5494</td>\n",
       "    </tr>\n",
       "    <tr>\n",
       "      <th>11247</th>\n",
       "      <td>10000869</td>\n",
       "      <td>42371</td>\n",
       "      <td>Yellow Cab</td>\n",
       "      <td>NEW YORK NY</td>\n",
       "      <td>3.06</td>\n",
       "      <td>104.70</td>\n",
       "      <td>36.7200</td>\n",
       "      <td>475</td>\n",
       "      <td>Cash</td>\n",
       "      <td>Male</td>\n",
       "      <td>36</td>\n",
       "      <td>9959</td>\n",
       "    </tr>\n",
       "    <tr>\n",
       "      <th>2025</th>\n",
       "      <td>10000145</td>\n",
       "      <td>42371</td>\n",
       "      <td>Pink Cab</td>\n",
       "      <td>NEW YORK NY</td>\n",
       "      <td>2.10</td>\n",
       "      <td>37.18</td>\n",
       "      <td>21.4200</td>\n",
       "      <td>502</td>\n",
       "      <td>Cash</td>\n",
       "      <td>Male</td>\n",
       "      <td>28</td>\n",
       "      <td>15285</td>\n",
       "    </tr>\n",
       "  </tbody>\n",
       "</table>\n",
       "</div>"
      ],
      "text/plain": [
       "       Transaction ID  Date of Travel     Company         City  KM Travelled  \\\n",
       "10422        10000845           42371  Yellow Cab  NEW YORK NY         17.92   \n",
       "14242        10000961           42371  Yellow Cab  NEW YORK NY         19.04   \n",
       "13252        10000929           42371  Yellow Cab  NEW YORK NY         37.24   \n",
       "11247        10000869           42371  Yellow Cab  NEW YORK NY          3.06   \n",
       "2025         10000145           42371    Pink Cab  NEW YORK NY          2.10   \n",
       "\n",
       "       Price Charged  Cost of Trip  Customer ID Payment_Mode Gender  Age  \\\n",
       "10422         561.71      253.7472            9         Card   Male   32   \n",
       "14242         634.46      253.6128           85         Card   Male   19   \n",
       "13252        1065.31      536.2560          439         Cash   Male   22   \n",
       "11247         104.70       36.7200          475         Cash   Male   36   \n",
       "2025           37.18       21.4200          502         Cash   Male   28   \n",
       "\n",
       "       Income (USD/Month)  \n",
       "10422               21212  \n",
       "14242               19765  \n",
       "13252                5494  \n",
       "11247                9959  \n",
       "2025                15285  "
      ]
     },
     "execution_count": 22,
     "metadata": {},
     "output_type": "execute_result"
    }
   ],
   "source": [
    "main_dataset.to_csv('main_dataset.csv')\n",
    "main_dataset.head()"
   ]
  },
  {
   "cell_type": "markdown",
   "id": "45627637",
   "metadata": {},
   "source": [
    "## Feature Engineering"
   ]
  },
  {
   "cell_type": "code",
   "execution_count": 26,
   "id": "a0ffd850",
   "metadata": {},
   "outputs": [],
   "source": [
    "main_dataset['Date of Travel'] = pd.to_datetime(main_dataset['Date of Travel'],\n",
    "                                                  unit = 'D',\n",
    "                                                  origin = '1899-12-30')"
   ]
  },
  {
   "cell_type": "code",
   "execution_count": 27,
   "id": "9265c8fb",
   "metadata": {},
   "outputs": [
    {
     "name": "stdout",
     "output_type": "stream",
     "text": [
      "<class 'pandas.core.frame.DataFrame'>\n",
      "Int64Index: 359392 entries, 10422 to 164871\n",
      "Data columns (total 12 columns):\n",
      " #   Column              Non-Null Count   Dtype         \n",
      "---  ------              --------------   -----         \n",
      " 0   Transaction ID      359392 non-null  int64         \n",
      " 1   Date of Travel      359392 non-null  datetime64[ns]\n",
      " 2   Company             359392 non-null  object        \n",
      " 3   City                359392 non-null  object        \n",
      " 4   KM Travelled        359392 non-null  float64       \n",
      " 5   Price Charged       359392 non-null  float64       \n",
      " 6   Cost of Trip        359392 non-null  float64       \n",
      " 7   Customer ID         359392 non-null  int64         \n",
      " 8   Payment_Mode        359392 non-null  object        \n",
      " 9   Gender              359392 non-null  object        \n",
      " 10  Age                 359392 non-null  int64         \n",
      " 11  Income (USD/Month)  359392 non-null  int64         \n",
      "dtypes: datetime64[ns](1), float64(3), int64(4), object(4)\n",
      "memory usage: 35.6+ MB\n",
      "None        Transaction ID   KM Travelled  Price Charged   Cost of Trip  \\\n",
      "count    3.593920e+05  359392.000000  359392.000000  359392.000000   \n",
      "mean     1.022076e+07      22.567254     423.443311     286.190113   \n",
      "std      1.268058e+05      12.233526     274.378911     157.993661   \n",
      "min      1.000001e+07       1.900000      15.600000      19.000000   \n",
      "25%      1.011081e+07      12.000000     206.437500     151.200000   \n",
      "50%      1.022104e+07      22.440000     386.360000     282.480000   \n",
      "75%      1.033094e+07      32.960000     583.660000     413.683200   \n",
      "max      1.044011e+07      48.000000    2048.030000     691.200000   \n",
      "\n",
      "         Customer ID            Age  Income (USD/Month)  \n",
      "count  359392.000000  359392.000000       359392.000000  \n",
      "mean    19191.652115      35.336705        15048.822937  \n",
      "std     21012.412463      12.594234         7969.409482  \n",
      "min         1.000000      18.000000         2000.000000  \n",
      "25%      2705.000000      25.000000         8424.000000  \n",
      "50%      7459.000000      33.000000        14685.000000  \n",
      "75%     36078.000000      42.000000        21035.000000  \n",
      "max     60000.000000      65.000000        35000.000000  \n"
     ]
    }
   ],
   "source": [
    "print(main_dataset.info(),main_dataset.describe())"
   ]
  },
  {
   "cell_type": "code",
   "execution_count": 28,
   "id": "5a4bfa64",
   "metadata": {},
   "outputs": [
    {
     "data": {
      "text/html": [
       "<div>\n",
       "<style scoped>\n",
       "    .dataframe tbody tr th:only-of-type {\n",
       "        vertical-align: middle;\n",
       "    }\n",
       "\n",
       "    .dataframe tbody tr th {\n",
       "        vertical-align: top;\n",
       "    }\n",
       "\n",
       "    .dataframe thead th {\n",
       "        text-align: right;\n",
       "    }\n",
       "</style>\n",
       "<table border=\"1\" class=\"dataframe\">\n",
       "  <thead>\n",
       "    <tr style=\"text-align: right;\">\n",
       "      <th></th>\n",
       "      <th>Transaction ID</th>\n",
       "      <th>Date of Travel</th>\n",
       "      <th>Company</th>\n",
       "      <th>City</th>\n",
       "      <th>KM Travelled</th>\n",
       "      <th>Price Charged</th>\n",
       "      <th>Price per KM</th>\n",
       "      <th>Cost of Trip</th>\n",
       "      <th>Cost per KM</th>\n",
       "      <th>Customer ID</th>\n",
       "      <th>Payment_Mode</th>\n",
       "      <th>Gender</th>\n",
       "      <th>Age</th>\n",
       "      <th>Income (USD/Month)</th>\n",
       "    </tr>\n",
       "  </thead>\n",
       "  <tbody>\n",
       "    <tr>\n",
       "      <th>10422</th>\n",
       "      <td>10000845</td>\n",
       "      <td>2016-01-02</td>\n",
       "      <td>Yellow Cab</td>\n",
       "      <td>NEW YORK NY</td>\n",
       "      <td>17.92</td>\n",
       "      <td>561.71</td>\n",
       "      <td>31.345424</td>\n",
       "      <td>253.7472</td>\n",
       "      <td>14.16</td>\n",
       "      <td>9</td>\n",
       "      <td>Card</td>\n",
       "      <td>Male</td>\n",
       "      <td>32</td>\n",
       "      <td>21212</td>\n",
       "    </tr>\n",
       "    <tr>\n",
       "      <th>14242</th>\n",
       "      <td>10000961</td>\n",
       "      <td>2016-01-02</td>\n",
       "      <td>Yellow Cab</td>\n",
       "      <td>NEW YORK NY</td>\n",
       "      <td>19.04</td>\n",
       "      <td>634.46</td>\n",
       "      <td>33.322479</td>\n",
       "      <td>253.6128</td>\n",
       "      <td>13.32</td>\n",
       "      <td>85</td>\n",
       "      <td>Card</td>\n",
       "      <td>Male</td>\n",
       "      <td>19</td>\n",
       "      <td>19765</td>\n",
       "    </tr>\n",
       "    <tr>\n",
       "      <th>13252</th>\n",
       "      <td>10000929</td>\n",
       "      <td>2016-01-02</td>\n",
       "      <td>Yellow Cab</td>\n",
       "      <td>NEW YORK NY</td>\n",
       "      <td>37.24</td>\n",
       "      <td>1065.31</td>\n",
       "      <td>28.606606</td>\n",
       "      <td>536.2560</td>\n",
       "      <td>14.40</td>\n",
       "      <td>439</td>\n",
       "      <td>Cash</td>\n",
       "      <td>Male</td>\n",
       "      <td>22</td>\n",
       "      <td>5494</td>\n",
       "    </tr>\n",
       "    <tr>\n",
       "      <th>11247</th>\n",
       "      <td>10000869</td>\n",
       "      <td>2016-01-02</td>\n",
       "      <td>Yellow Cab</td>\n",
       "      <td>NEW YORK NY</td>\n",
       "      <td>3.06</td>\n",
       "      <td>104.70</td>\n",
       "      <td>34.215686</td>\n",
       "      <td>36.7200</td>\n",
       "      <td>12.00</td>\n",
       "      <td>475</td>\n",
       "      <td>Cash</td>\n",
       "      <td>Male</td>\n",
       "      <td>36</td>\n",
       "      <td>9959</td>\n",
       "    </tr>\n",
       "    <tr>\n",
       "      <th>2025</th>\n",
       "      <td>10000145</td>\n",
       "      <td>2016-01-02</td>\n",
       "      <td>Pink Cab</td>\n",
       "      <td>NEW YORK NY</td>\n",
       "      <td>2.10</td>\n",
       "      <td>37.18</td>\n",
       "      <td>17.704762</td>\n",
       "      <td>21.4200</td>\n",
       "      <td>10.20</td>\n",
       "      <td>502</td>\n",
       "      <td>Cash</td>\n",
       "      <td>Male</td>\n",
       "      <td>28</td>\n",
       "      <td>15285</td>\n",
       "    </tr>\n",
       "  </tbody>\n",
       "</table>\n",
       "</div>"
      ],
      "text/plain": [
       "       Transaction ID Date of Travel     Company         City  KM Travelled  \\\n",
       "10422        10000845     2016-01-02  Yellow Cab  NEW YORK NY         17.92   \n",
       "14242        10000961     2016-01-02  Yellow Cab  NEW YORK NY         19.04   \n",
       "13252        10000929     2016-01-02  Yellow Cab  NEW YORK NY         37.24   \n",
       "11247        10000869     2016-01-02  Yellow Cab  NEW YORK NY          3.06   \n",
       "2025         10000145     2016-01-02    Pink Cab  NEW YORK NY          2.10   \n",
       "\n",
       "       Price Charged  Price per KM  Cost of Trip  Cost per KM  Customer ID  \\\n",
       "10422         561.71     31.345424      253.7472        14.16            9   \n",
       "14242         634.46     33.322479      253.6128        13.32           85   \n",
       "13252        1065.31     28.606606      536.2560        14.40          439   \n",
       "11247         104.70     34.215686       36.7200        12.00          475   \n",
       "2025           37.18     17.704762       21.4200        10.20          502   \n",
       "\n",
       "      Payment_Mode Gender  Age  Income (USD/Month)  \n",
       "10422         Card   Male   32               21212  \n",
       "14242         Card   Male   19               19765  \n",
       "13252         Cash   Male   22                5494  \n",
       "11247         Cash   Male   36                9959  \n",
       "2025          Cash   Male   28               15285  "
      ]
     },
     "execution_count": 28,
     "metadata": {},
     "output_type": "execute_result"
    }
   ],
   "source": [
    "df_copy = main_dataset.copy() #create a copy for experimentation\n",
    "price_per_km = main_dataset['Price Charged'] / main_dataset['KM Travelled']\n",
    "\n",
    "main_dataset.insert(6, \n",
    "'Price per KM', main_dataset['Price Charged'] / main_dataset['KM Travelled'], \n",
    "True)\n",
    "main_dataset.insert(8, \n",
    "'Cost per KM', main_dataset['Cost of Trip']/main_dataset['KM Travelled'], \n",
    "True)\n",
    "\n",
    "main_dataset.head()"
   ]
  },
  {
   "cell_type": "markdown",
   "id": "2deaafa8",
   "metadata": {},
   "source": [
    "## Data Cleansing"
   ]
  },
  {
   "cell_type": "code",
   "execution_count": 32,
   "id": "7f3603b4",
   "metadata": {},
   "outputs": [
    {
     "data": {
      "text/plain": [
       "0"
      ]
     },
     "execution_count": 32,
     "metadata": {},
     "output_type": "execute_result"
    }
   ],
   "source": [
    "# Data Duplicated Checker\n",
    "main_dataset.duplicated().sum()"
   ]
  },
  {
   "cell_type": "code",
   "execution_count": 34,
   "id": "0b756185",
   "metadata": {},
   "outputs": [
    {
     "data": {
      "text/plain": [
       "Transaction ID        359392\n",
       "Date of Travel          1095\n",
       "Company                    2\n",
       "City                      19\n",
       "KM Travelled             874\n",
       "Price Charged          99176\n",
       "Price per KM          333994\n",
       "Cost of Trip           16291\n",
       "Cost per KM              135\n",
       "Customer ID            46148\n",
       "Payment_Mode               2\n",
       "Gender                     2\n",
       "Age                       48\n",
       "Income (USD/Month)     22725\n",
       "dtype: int64"
      ]
     },
     "execution_count": 34,
     "metadata": {},
     "output_type": "execute_result"
    }
   ],
   "source": [
    "main_dataset.nunique()"
   ]
  },
  {
   "cell_type": "code",
   "execution_count": 35,
   "id": "504579f3",
   "metadata": {},
   "outputs": [
    {
     "data": {
      "text/plain": [
       "Transaction ID        0\n",
       "Date of Travel        0\n",
       "Company               0\n",
       "City                  0\n",
       "KM Travelled          0\n",
       "Price Charged         0\n",
       "Price per KM          0\n",
       "Cost of Trip          0\n",
       "Cost per KM           0\n",
       "Customer ID           0\n",
       "Payment_Mode          0\n",
       "Gender                0\n",
       "Age                   0\n",
       "Income (USD/Month)    0\n",
       "dtype: int64"
      ]
     },
     "execution_count": 35,
     "metadata": {},
     "output_type": "execute_result"
    }
   ],
   "source": [
    "main_dataset.isnull().sum()"
   ]
  },
  {
   "cell_type": "markdown",
   "id": "0d4ecf01",
   "metadata": {},
   "source": [
    "## Outlier Analysis"
   ]
  },
  {
   "cell_type": "code",
   "execution_count": 36,
   "id": "2e3731f9",
   "metadata": {},
   "outputs": [],
   "source": [
    "import matplotlib.pyplot as plt\n",
    "import seaborn as sns\n",
    "from matplotlib import pyplot as plt"
   ]
  },
  {
   "cell_type": "code",
   "execution_count": 42,
   "id": "29cc9814",
   "metadata": {},
   "outputs": [],
   "source": [
    "%matplotlib inline\n",
    "import warnings\n",
    "warnings.simplefilter(action='ignore', category=FutureWarning)"
   ]
  },
  {
   "cell_type": "code",
   "execution_count": 47,
   "id": "324d9aae",
   "metadata": {},
   "outputs": [
    {
     "name": "stdout",
     "output_type": "stream",
     "text": [
      "Distribution plots for KM Travelled are shown below\n"
     ]
    },
    {
     "data": {
      "image/png": "[encoded data removed]",
      "text/plain": [
       "<Figure size 1080x504 with 3 Axes>"
      ]
     },
     "metadata": {
      "needs_background": "light"
     },
     "output_type": "display_data"
    },
    {
     "name": "stdout",
     "output_type": "stream",
     "text": [
      "----------------------------------------------------------------------------------------------------\n",
      "Distribution plots for Price Charged are shown below\n"
     ]
    },
    {
     "data": {
      "image/png": "[encoded data removed]",
      "text/plain": [
       "<Figure size 1080x504 with 3 Axes>"
      ]
     },
     "metadata": {
      "needs_background": "light"
     },
     "output_type": "display_data"
    },
    {
     "name": "stdout",
     "output_type": "stream",
     "text": [
      "----------------------------------------------------------------------------------------------------\n",
      "Distribution plots for Price per KM are shown below\n"
     ]
    },
    {
     "data": {
      "image/png": "[encoded data removed]",
      "text/plain": [
       "<Figure size 1080x504 with 3 Axes>"
      ]
     },
     "metadata": {
      "needs_background": "light"
     },
     "output_type": "display_data"
    },
    {
     "name": "stdout",
     "output_type": "stream",
     "text": [
      "----------------------------------------------------------------------------------------------------\n",
      "Distribution plots for Cost of Trip are shown below\n"
     ]
    },
    {
     "data": {
      "image/png": "[encoded data removed]",
      "text/plain": [
       "<Figure size 1080x504 with 3 Axes>"
      ]
     },
     "metadata": {
      "needs_background": "light"
     },
     "output_type": "display_data"
    },
    {
     "name": "stdout",
     "output_type": "stream",
     "text": [
      "----------------------------------------------------------------------------------------------------\n",
      "Distribution plots for Cost per KM are shown below\n"
     ]
    },
    {
     "data": {
      "image/png": "[encoded data removed]",
      "text/plain": [
       "<Figure size 1080x504 with 3 Axes>"
      ]
     },
     "metadata": {
      "needs_background": "light"
     },
     "output_type": "display_data"
    },
    {
     "name": "stdout",
     "output_type": "stream",
     "text": [
      "----------------------------------------------------------------------------------------------------\n",
      "Distribution plots for Income are shown below\n"
     ]
    },
    {
     "ename": "KeyError",
     "evalue": "'Income'",
     "output_type": "error",
     "traceback": [
      "\u001b[1;31m---------------------------------------------------------------------------\u001b[0m",
      "\u001b[1;31mKeyError\u001b[0m                                  Traceback (most recent call last)",
      "\u001b[1;32m~\\anaconda3\\lib\\site-packages\\pandas\\core\\indexes\\base.py\u001b[0m in \u001b[0;36mget_loc\u001b[1;34m(self, key, method, tolerance)\u001b[0m\n\u001b[0;32m   3360\u001b[0m             \u001b[1;32mtry\u001b[0m\u001b[1;33m:\u001b[0m\u001b[1;33m\u001b[0m\u001b[1;33m\u001b[0m\u001b[0m\n\u001b[1;32m-> 3361\u001b[1;33m                 \u001b[1;32mreturn\u001b[0m \u001b[0mself\u001b[0m\u001b[1;33m.\u001b[0m\u001b[0m_engine\u001b[0m\u001b[1;33m.\u001b[0m\u001b[0mget_loc\u001b[0m\u001b[1;33m(\u001b[0m\u001b[0mcasted_key\u001b[0m\u001b[1;33m)\u001b[0m\u001b[1;33m\u001b[0m\u001b[1;33m\u001b[0m\u001b[0m\n\u001b[0m\u001b[0;32m   3362\u001b[0m             \u001b[1;32mexcept\u001b[0m \u001b[0mKeyError\u001b[0m \u001b[1;32mas\u001b[0m \u001b[0merr\u001b[0m\u001b[1;33m:\u001b[0m\u001b[1;33m\u001b[0m\u001b[1;33m\u001b[0m\u001b[0m\n",
      "\u001b[1;32m~\\anaconda3\\lib\\site-packages\\pandas\\_libs\\index.pyx\u001b[0m in \u001b[0;36mpandas._libs.index.IndexEngine.get_loc\u001b[1;34m()\u001b[0m\n",
      "\u001b[1;32m~\\anaconda3\\lib\\site-packages\\pandas\\_libs\\index.pyx\u001b[0m in \u001b[0;36mpandas._libs.index.IndexEngine.get_loc\u001b[1;34m()\u001b[0m\n",
      "\u001b[1;32mpandas\\_libs\\hashtable_class_helper.pxi\u001b[0m in \u001b[0;36mpandas._libs.hashtable.PyObjectHashTable.get_item\u001b[1;34m()\u001b[0m\n",
      "\u001b[1;32mpandas\\_libs\\hashtable_class_helper.pxi\u001b[0m in \u001b[0;36mpandas._libs.hashtable.PyObjectHashTable.get_item\u001b[1;34m()\u001b[0m\n",
      "\u001b[1;31mKeyError\u001b[0m: 'Income'",
      "\nThe above exception was the direct cause of the following exception:\n",
      "\u001b[1;31mKeyError\u001b[0m                                  Traceback (most recent call last)",
      "\u001b[1;32m~\\AppData\\Local\\Temp/ipykernel_2764/3544941675.py\u001b[0m in \u001b[0;36m<module>\u001b[1;34m\u001b[0m\n\u001b[0;32m     21\u001b[0m \u001b[1;33m\u001b[0m\u001b[0m\n\u001b[0;32m     22\u001b[0m     \u001b[0mprint\u001b[0m\u001b[1;33m(\u001b[0m\u001b[1;34mf'Distribution plots for {cols[i]} are shown below'\u001b[0m\u001b[1;33m)\u001b[0m\u001b[1;33m\u001b[0m\u001b[1;33m\u001b[0m\u001b[0m\n\u001b[1;32m---> 23\u001b[1;33m     \u001b[0mdrawplots\u001b[0m\u001b[1;33m(\u001b[0m\u001b[0mmain_dataset\u001b[0m\u001b[1;33m,\u001b[0m \u001b[0mcols\u001b[0m\u001b[1;33m[\u001b[0m\u001b[0mi\u001b[0m\u001b[1;33m]\u001b[0m\u001b[1;33m)\u001b[0m\u001b[1;33m\u001b[0m\u001b[1;33m\u001b[0m\u001b[0m\n\u001b[0m\u001b[0;32m     24\u001b[0m     \u001b[0mprint\u001b[0m\u001b[1;33m(\u001b[0m\u001b[1;34m\"-\"\u001b[0m\u001b[1;33m*\u001b[0m\u001b[1;36m100\u001b[0m\u001b[1;33m)\u001b[0m\u001b[1;33m\u001b[0m\u001b[1;33m\u001b[0m\u001b[0m\n",
      "\u001b[1;32m~\\AppData\\Local\\Temp/ipykernel_2764/3544941675.py\u001b[0m in \u001b[0;36mdrawplots\u001b[1;34m(main_dataset, col)\u001b[0m\n\u001b[0;32m      6\u001b[0m     \u001b[0mplt\u001b[0m\u001b[1;33m.\u001b[0m\u001b[0mfigure\u001b[0m\u001b[1;33m(\u001b[0m\u001b[0mfigsize\u001b[0m\u001b[1;33m=\u001b[0m\u001b[1;33m(\u001b[0m\u001b[1;36m15\u001b[0m\u001b[1;33m,\u001b[0m\u001b[1;36m7\u001b[0m\u001b[1;33m)\u001b[0m\u001b[1;33m)\u001b[0m\u001b[1;33m\u001b[0m\u001b[1;33m\u001b[0m\u001b[0m\n\u001b[0;32m      7\u001b[0m     \u001b[0mplt\u001b[0m\u001b[1;33m.\u001b[0m\u001b[0msubplot\u001b[0m\u001b[1;33m(\u001b[0m\u001b[1;36m1\u001b[0m\u001b[1;33m,\u001b[0m\u001b[1;36m3\u001b[0m\u001b[1;33m,\u001b[0m\u001b[1;36m1\u001b[0m\u001b[1;33m)\u001b[0m\u001b[1;33m\u001b[0m\u001b[1;33m\u001b[0m\u001b[0m\n\u001b[1;32m----> 8\u001b[1;33m     \u001b[0mplt\u001b[0m\u001b[1;33m.\u001b[0m\u001b[0mhist\u001b[0m\u001b[1;33m(\u001b[0m\u001b[0mmain_dataset\u001b[0m\u001b[1;33m[\u001b[0m\u001b[0mcol\u001b[0m\u001b[1;33m]\u001b[0m\u001b[1;33m,\u001b[0m\u001b[0mcolor\u001b[0m\u001b[1;33m=\u001b[0m\u001b[1;34m'magenta'\u001b[0m\u001b[1;33m)\u001b[0m\u001b[1;33m\u001b[0m\u001b[1;33m\u001b[0m\u001b[0m\n\u001b[0m\u001b[0;32m      9\u001b[0m \u001b[1;33m\u001b[0m\u001b[0m\n\u001b[0;32m     10\u001b[0m     \u001b[0mplt\u001b[0m\u001b[1;33m.\u001b[0m\u001b[0msubplot\u001b[0m\u001b[1;33m(\u001b[0m\u001b[1;36m1\u001b[0m\u001b[1;33m,\u001b[0m\u001b[1;36m3\u001b[0m\u001b[1;33m,\u001b[0m\u001b[1;36m2\u001b[0m\u001b[1;33m)\u001b[0m\u001b[1;33m\u001b[0m\u001b[1;33m\u001b[0m\u001b[0m\n",
      "\u001b[1;32m~\\anaconda3\\lib\\site-packages\\pandas\\core\\frame.py\u001b[0m in \u001b[0;36m__getitem__\u001b[1;34m(self, key)\u001b[0m\n\u001b[0;32m   3456\u001b[0m             \u001b[1;32mif\u001b[0m \u001b[0mself\u001b[0m\u001b[1;33m.\u001b[0m\u001b[0mcolumns\u001b[0m\u001b[1;33m.\u001b[0m\u001b[0mnlevels\u001b[0m \u001b[1;33m>\u001b[0m \u001b[1;36m1\u001b[0m\u001b[1;33m:\u001b[0m\u001b[1;33m\u001b[0m\u001b[1;33m\u001b[0m\u001b[0m\n\u001b[0;32m   3457\u001b[0m                 \u001b[1;32mreturn\u001b[0m \u001b[0mself\u001b[0m\u001b[1;33m.\u001b[0m\u001b[0m_getitem_multilevel\u001b[0m\u001b[1;33m(\u001b[0m\u001b[0mkey\u001b[0m\u001b[1;33m)\u001b[0m\u001b[1;33m\u001b[0m\u001b[1;33m\u001b[0m\u001b[0m\n\u001b[1;32m-> 3458\u001b[1;33m             \u001b[0mindexer\u001b[0m \u001b[1;33m=\u001b[0m \u001b[0mself\u001b[0m\u001b[1;33m.\u001b[0m\u001b[0mcolumns\u001b[0m\u001b[1;33m.\u001b[0m\u001b[0mget_loc\u001b[0m\u001b[1;33m(\u001b[0m\u001b[0mkey\u001b[0m\u001b[1;33m)\u001b[0m\u001b[1;33m\u001b[0m\u001b[1;33m\u001b[0m\u001b[0m\n\u001b[0m\u001b[0;32m   3459\u001b[0m             \u001b[1;32mif\u001b[0m \u001b[0mis_integer\u001b[0m\u001b[1;33m(\u001b[0m\u001b[0mindexer\u001b[0m\u001b[1;33m)\u001b[0m\u001b[1;33m:\u001b[0m\u001b[1;33m\u001b[0m\u001b[1;33m\u001b[0m\u001b[0m\n\u001b[0;32m   3460\u001b[0m                 \u001b[0mindexer\u001b[0m \u001b[1;33m=\u001b[0m \u001b[1;33m[\u001b[0m\u001b[0mindexer\u001b[0m\u001b[1;33m]\u001b[0m\u001b[1;33m\u001b[0m\u001b[1;33m\u001b[0m\u001b[0m\n",
      "\u001b[1;32m~\\anaconda3\\lib\\site-packages\\pandas\\core\\indexes\\base.py\u001b[0m in \u001b[0;36mget_loc\u001b[1;34m(self, key, method, tolerance)\u001b[0m\n\u001b[0;32m   3361\u001b[0m                 \u001b[1;32mreturn\u001b[0m \u001b[0mself\u001b[0m\u001b[1;33m.\u001b[0m\u001b[0m_engine\u001b[0m\u001b[1;33m.\u001b[0m\u001b[0mget_loc\u001b[0m\u001b[1;33m(\u001b[0m\u001b[0mcasted_key\u001b[0m\u001b[1;33m)\u001b[0m\u001b[1;33m\u001b[0m\u001b[1;33m\u001b[0m\u001b[0m\n\u001b[0;32m   3362\u001b[0m             \u001b[1;32mexcept\u001b[0m \u001b[0mKeyError\u001b[0m \u001b[1;32mas\u001b[0m \u001b[0merr\u001b[0m\u001b[1;33m:\u001b[0m\u001b[1;33m\u001b[0m\u001b[1;33m\u001b[0m\u001b[0m\n\u001b[1;32m-> 3363\u001b[1;33m                 \u001b[1;32mraise\u001b[0m \u001b[0mKeyError\u001b[0m\u001b[1;33m(\u001b[0m\u001b[0mkey\u001b[0m\u001b[1;33m)\u001b[0m \u001b[1;32mfrom\u001b[0m \u001b[0merr\u001b[0m\u001b[1;33m\u001b[0m\u001b[1;33m\u001b[0m\u001b[0m\n\u001b[0m\u001b[0;32m   3364\u001b[0m \u001b[1;33m\u001b[0m\u001b[0m\n\u001b[0;32m   3365\u001b[0m         \u001b[1;32mif\u001b[0m \u001b[0mis_scalar\u001b[0m\u001b[1;33m(\u001b[0m\u001b[0mkey\u001b[0m\u001b[1;33m)\u001b[0m \u001b[1;32mand\u001b[0m \u001b[0misna\u001b[0m\u001b[1;33m(\u001b[0m\u001b[0mkey\u001b[0m\u001b[1;33m)\u001b[0m \u001b[1;32mand\u001b[0m \u001b[1;32mnot\u001b[0m \u001b[0mself\u001b[0m\u001b[1;33m.\u001b[0m\u001b[0mhasnans\u001b[0m\u001b[1;33m:\u001b[0m\u001b[1;33m\u001b[0m\u001b[1;33m\u001b[0m\u001b[0m\n",
      "\u001b[1;31mKeyError\u001b[0m: 'Income'"
     ]
    },
    {
     "data": {
      "image/png": "[encoded data removed]",
      "text/plain": [
       "<Figure size 1080x504 with 1 Axes>"
      ]
     },
     "metadata": {
      "needs_background": "light"
     },
     "output_type": "display_data"
    }
   ],
   "source": [
    "# Create histogram, normal distribution, and boxplot for all columns in a DF\n",
    "\n",
    "import scipy.stats as stats\n",
    "def drawplots(main_dataset,col):\n",
    "    \n",
    "    plt.figure(figsize=(15,7))\n",
    "    plt.subplot(1,3,1)\n",
    "    plt.hist(main_dataset[col],color='magenta')\n",
    "    \n",
    "    plt.subplot(1,3,2)\n",
    "    stats.probplot(main_dataset[col],dist='norm',plot=plt)\n",
    "    \n",
    "    plt.subplot(1,3,3)\n",
    "    sns.boxplot(main_dataset[col],color='magenta')\n",
    "\n",
    "    plt.show()\n",
    "    \n",
    "    \n",
    "cols = (\"KM Travelled\", \"Price Charged\", \"Price per KM\", \"Cost of Trip\", \"Cost per KM\", \"Income\")\n",
    "for i in range(len(cols)):\n",
    "    \n",
    "    print(f'Distribution plots for {cols[i]} are shown below')\n",
    "    drawplots(main_dataset, cols[i])\n",
    "    print(\"-\"*100)"
   ]
  },
  {
   "cell_type": "markdown",
   "id": "d0bd95d9",
   "metadata": {},
   "source": [
    "## Hypothesis 1: Yellow Cab has a larger market share than Pink Cab"
   ]
  },
  {
   "cell_type": "code",
   "execution_count": 48,
   "id": "1a12f603",
   "metadata": {},
   "outputs": [
    {
     "data": {
      "text/plain": [
       "<AxesSubplot:xlabel='Company', ylabel='count'>"
      ]
     },
     "execution_count": 48,
     "metadata": {},
     "output_type": "execute_result"
    },
    {
     "data": {
      "image/png": "[encoded data removed]",
      "text/plain": [
       "<Figure size 432x288 with 1 Axes>"
      ]
     },
     "metadata": {
      "needs_background": "light"
     },
     "output_type": "display_data"
    }
   ],
   "source": [
    "sb.countplot(x = main_dataset.Company)"
   ]
  },
  {
   "cell_type": "markdown",
   "id": "e45c788e",
   "metadata": {},
   "source": [
    "Results of Hypothesis 1:   True."
   ]
  },
  {
   "cell_type": "markdown",
   "id": "aed45452",
   "metadata": {},
   "source": [
    "## Hypothesis 2: Both Cabs have similar distributed client base, based on a). age, b). gender, c). income & d). location"
   ]
  },
  {
   "cell_type": "code",
   "execution_count": 49,
   "id": "b590530a",
   "metadata": {},
   "outputs": [
    {
     "data": {
      "image/png": "[encoded data removed]",
      "text/plain": [
       "<Figure size 1440x360 with 2 Axes>"
      ]
     },
     "metadata": {
      "needs_background": "light"
     },
     "output_type": "display_data"
    }
   ],
   "source": [
    "#a). Age\n",
    "    #Define graph figure size\n",
    "mp.subplots(figsize = (20, 5))\n",
    "\n",
    "    #Plot for Yellow Cab Clients Count against Age. Bins = 5\n",
    "mp.subplot(1,2,1)\n",
    "mp.hist(main_dataset[main_dataset['Company'] == 'Yellow Cab']['Age'], bins = 5, edgecolor='white')\n",
    "mp.xlabel('Yellow Cab_Age Groups')\n",
    "\n",
    "    #Plot for Pink Cab Clients Count against Age. Bins = 5\n",
    "mp.subplot(1,2,2)\n",
    "mp.hist(main_dataset[main_dataset['Company'] == 'Pink Cab']['Age'], bins = 5, edgecolor='white')\n",
    "mp.xlabel('Pink Cab_Age Groups')\n",
    "\n",
    "mp.show()"
   ]
  },
  {
   "cell_type": "code",
   "execution_count": 50,
   "id": "78815951",
   "metadata": {},
   "outputs": [
    {
     "data": {
      "text/plain": [
       "<AxesSubplot:xlabel='Company', ylabel='count'>"
      ]
     },
     "execution_count": 50,
     "metadata": {},
     "output_type": "execute_result"
    },
    {
     "data": {
      "image/png": "[encoded data removed]",
      "text/plain": [
       "<Figure size 432x288 with 1 Axes>"
      ]
     },
     "metadata": {
      "needs_background": "light"
     },
     "output_type": "display_data"
    }
   ],
   "source": [
    "#b). Gender\n",
    "\n",
    "sb.countplot(\n",
    "    x = main_dataset.Company, \n",
    "    hue = main_dataset['Gender'],\n",
    "    )\n"
   ]
  },
  {
   "cell_type": "code",
   "execution_count": 51,
   "id": "bff535b4",
   "metadata": {},
   "outputs": [
    {
     "data": {
      "text/plain": [
       "Text(0.5, 0, 'Pink Cab_Clients Income')"
      ]
     },
     "execution_count": 51,
     "metadata": {},
     "output_type": "execute_result"
    },
    {
     "data": {
      "image/png": "[encoded data removed]",
      "text/plain": [
       "<Figure size 1440x360 with 2 Axes>"
      ]
     },
     "metadata": {
      "needs_background": "light"
     },
     "output_type": "display_data"
    }
   ],
   "source": [
    "#c). Income\n",
    "\n",
    "mp.subplots(figsize = (20,5))\n",
    "\n",
    "mp.subplot(1,2,1)\n",
    "mp.hist(main_dataset[main_dataset['Company'] == 'Yellow Cab']['Income (USD/Month)'], bins = 15, edgecolor = 'white')\n",
    "mp.xlabel('Yellow Cab_Clients Income')\n",
    "\n",
    "\n",
    "mp.subplot(1,2,2)\n",
    "mp.hist(main_dataset[main_dataset['Company'] == 'Pink Cab']['Income (USD/Month)'], bins = 15, edgecolor = 'white')\n",
    "mp.xlabel('Pink Cab_Clients Income')"
   ]
  },
  {
   "cell_type": "code",
   "execution_count": 52,
   "id": "68c01ee2",
   "metadata": {},
   "outputs": [
    {
     "data": {
      "text/plain": [
       "<AxesSubplot:ylabel='City'>"
      ]
     },
     "execution_count": 52,
     "metadata": {},
     "output_type": "execute_result"
    },
    {
     "data": {
      "image/png": "[encoded data removed]",
      "text/plain": [
       "<Figure size 432x288 with 1 Axes>"
      ]
     },
     "metadata": {
      "needs_background": "light"
     },
     "output_type": "display_data"
    }
   ],
   "source": [
    "# d). Location\n",
    "\n",
    "\n",
    "\n",
    "from collections import Counter\n",
    "Counter(main_dataset.City).values()\n",
    "\n",
    "#count duplicates\n",
    "\n",
    "# fig, ax = mp.subplots()\n",
    "\n",
    "# ax.bar(main_dataset['City'], Counter(main_dataset['City']).values(), label = \"City\")\n",
    "\n",
    "    #Number of transactions per City for Yellow Cab\n",
    "yellow_transactions_city = dict(Counter(main_dataset[main_dataset.Company == 'Yellow Cab'].City))\n",
    "    #Number of transactions per City for Pink Cab\n",
    "pink_transactions_city = dict(Counter(main_dataset[main_dataset.Company == 'Pink Cab'].City))\n",
    "\n",
    "\n",
    "pd.DataFrame(\n",
    "     {\n",
    "    'City': list(Counter(main_dataset[main_dataset.Company == 'Pink Cab'].City).keys()),\n",
    "    'Yellow Cab Mrkt Share': list(Counter(main_dataset[main_dataset.Company == 'Yellow Cab'].City).values()),\n",
    "    'Pink Cab Mrkt Share': list(Counter(main_dataset[main_dataset.Company == 'Pink Cab'].City).values()),\n",
    "\n",
    "}\n",
    ").plot.barh(x = 'City', stacked = True)"
   ]
  },
  {
   "cell_type": "markdown",
   "id": "f85fd6fd",
   "metadata": {},
   "source": [
    "Results for Hypothesis 2a: True. Both Cabs have similarly distributed client base, based on Age\n",
    "Result for Hypothesis 2b: True. Both Cab Companies have similar ratios in Client gender distribution\n",
    "Results for Hypothesis 2c: True. Both Cabs have a similarly distributed range of clinets based on Income  \n",
    "Results for Hypothesis 2d:Flase. Both Cabs have different distribution across the locations"
   ]
  },
  {
   "cell_type": "markdown",
   "id": "cd9748c4",
   "metadata": {},
   "source": [
    "## Hypothesis 3: Pink Cab charges higher per KM than Yellow Cab"
   ]
  },
  {
   "cell_type": "code",
   "execution_count": 55,
   "id": "99df70d5",
   "metadata": {},
   "outputs": [
    {
     "data": {
      "text/html": [
       "<div>\n",
       "<style scoped>\n",
       "    .dataframe tbody tr th:only-of-type {\n",
       "        vertical-align: middle;\n",
       "    }\n",
       "\n",
       "    .dataframe tbody tr th {\n",
       "        vertical-align: top;\n",
       "    }\n",
       "\n",
       "    .dataframe thead th {\n",
       "        text-align: right;\n",
       "    }\n",
       "</style>\n",
       "<table border=\"1\" class=\"dataframe\">\n",
       "  <thead>\n",
       "    <tr style=\"text-align: right;\">\n",
       "      <th></th>\n",
       "      <th>Cost per KM Pink</th>\n",
       "      <th>Price per KM Pink</th>\n",
       "      <th>Cost per KM Yellow</th>\n",
       "      <th>Price per KM Yellow</th>\n",
       "    </tr>\n",
       "  </thead>\n",
       "  <tbody>\n",
       "    <tr>\n",
       "      <th>count</th>\n",
       "      <td>84711.000000</td>\n",
       "      <td>84711.000000</td>\n",
       "      <td>274681.000000</td>\n",
       "      <td>274681.000000</td>\n",
       "    </tr>\n",
       "    <tr>\n",
       "      <th>mean</th>\n",
       "      <td>10.998602</td>\n",
       "      <td>13.768510</td>\n",
       "      <td>13.200565</td>\n",
       "      <td>20.306073</td>\n",
       "    </tr>\n",
       "    <tr>\n",
       "      <th>std</th>\n",
       "      <td>0.606598</td>\n",
       "      <td>2.631528</td>\n",
       "      <td>0.726940</td>\n",
       "      <td>5.745021</td>\n",
       "    </tr>\n",
       "    <tr>\n",
       "      <th>min</th>\n",
       "      <td>10.000000</td>\n",
       "      <td>6.338621</td>\n",
       "      <td>12.000000</td>\n",
       "      <td>9.161765</td>\n",
       "    </tr>\n",
       "    <tr>\n",
       "      <th>25%</th>\n",
       "      <td>10.500000</td>\n",
       "      <td>11.937046</td>\n",
       "      <td>12.600000</td>\n",
       "      <td>15.805288</td>\n",
       "    </tr>\n",
       "    <tr>\n",
       "      <th>50%</th>\n",
       "      <td>11.000000</td>\n",
       "      <td>13.396096</td>\n",
       "      <td>13.200000</td>\n",
       "      <td>18.753655</td>\n",
       "    </tr>\n",
       "    <tr>\n",
       "      <th>75%</th>\n",
       "      <td>11.500000</td>\n",
       "      <td>15.232716</td>\n",
       "      <td>13.800000</td>\n",
       "      <td>24.100763</td>\n",
       "    </tr>\n",
       "    <tr>\n",
       "      <th>max</th>\n",
       "      <td>12.000000</td>\n",
       "      <td>39.046939</td>\n",
       "      <td>14.400000</td>\n",
       "      <td>53.955556</td>\n",
       "    </tr>\n",
       "  </tbody>\n",
       "</table>\n",
       "</div>"
      ],
      "text/plain": [
       "       Cost per KM Pink  Price per KM Pink  Cost per KM Yellow  \\\n",
       "count      84711.000000       84711.000000       274681.000000   \n",
       "mean          10.998602          13.768510           13.200565   \n",
       "std            0.606598           2.631528            0.726940   \n",
       "min           10.000000           6.338621           12.000000   \n",
       "25%           10.500000          11.937046           12.600000   \n",
       "50%           11.000000          13.396096           13.200000   \n",
       "75%           11.500000          15.232716           13.800000   \n",
       "max           12.000000          39.046939           14.400000   \n",
       "\n",
       "       Price per KM Yellow  \n",
       "count        274681.000000  \n",
       "mean             20.306073  \n",
       "std               5.745021  \n",
       "min               9.161765  \n",
       "25%              15.805288  \n",
       "50%              18.753655  \n",
       "75%              24.100763  \n",
       "max              53.955556  "
      ]
     },
     "execution_count": 55,
     "metadata": {},
     "output_type": "execute_result"
    }
   ],
   "source": [
    "# Create a merge of the describe() fn for Yellow & Pink Cabs on their Cost per KM & Price per KM\n",
    "pd.merge(\n",
    "    main_dataset[main_dataset['Company'] == 'Pink Cab'][['Cost per KM','Price per KM']].describe(),\n",
    "    main_dataset[main_dataset['Company'] == 'Yellow Cab'][['Cost per KM', 'Price per KM']].describe(),\n",
    "    right_index = True,\n",
    "    left_index = True,\n",
    "    suffixes = (' Pink',' Yellow')\n",
    ")"
   ]
  },
  {
   "cell_type": "markdown",
   "id": "2fb4d8d8",
   "metadata": {},
   "source": [
    "Results for Hypothesis 3: False. Pink Cab charges lower than Yellow Cab"
   ]
  },
  {
   "cell_type": "markdown",
   "id": "cf495441",
   "metadata": {},
   "source": [
    "## Hypothesis 4: Pink Cab has a higher Turnover per KM than Yellow Cab"
   ]
  },
  {
   "cell_type": "markdown",
   "id": "d9f8e9b2",
   "metadata": {},
   "source": [
    "Based on the table above, we can conclude that the results for Hypothesis 4 is False. Pink Cab receives a lower Turnover per KM than Yellow Cab."
   ]
  },
  {
   "cell_type": "markdown",
   "id": "2b9d7fbc",
   "metadata": {},
   "source": [
    "## Hypothesis 5: Pink Cab has a higher  Annual Transactions (2016, 2017, 2018) than Yellow Cab"
   ]
  },
  {
   "cell_type": "code",
   "execution_count": 57,
   "id": "38a57b36",
   "metadata": {},
   "outputs": [
    {
     "data": {
      "text/plain": [
       "<AxesSubplot:ylabel='City'>"
      ]
     },
     "execution_count": 57,
     "metadata": {},
     "output_type": "execute_result"
    },
    {
     "data": {
      "image/png": "[encoded data removed]",
      "text/plain": [
       "<Figure size 432x288 with 1 Axes>"
      ]
     },
     "metadata": {
      "needs_background": "light"
     },
     "output_type": "display_data"
    }
   ],
   "source": [
    "    #create DataFrame based on Yellow Cab's Annual Transactions (2016, 2017, 2018)\n",
    "pd.DataFrame(\n",
    "    {   \n",
    "        'City':         list(Counter(main_dataset[\n",
    "                                    (main_dataset['Company'].isin(['Yellow Cab'])) & \n",
    "                                    (main_dataset['Date of Travel'] < datetime.datetime(2017,12,31))].City\n",
    "                                    )), \n",
    "        'Yellow_2016': list(Counter(main_dataset[\n",
    "                                    (main_dataset['Company'].isin(['Yellow Cab'])) & \n",
    "                                    (main_dataset['Date of Travel'] < datetime.datetime(2016,12,31))].City\n",
    "                                    ).values()),\n",
    "        'Yellow_2017': list(Counter(main_dataset[\n",
    "                                    (main_dataset['Company'].isin(['Yellow Cab'])) & \n",
    "                                    (main_dataset['Date of Travel'] > datetime.datetime(2016,12,31)) &\n",
    "                                    (main_dataset['Date of Travel'] < datetime.datetime(2017,12,31))].City\n",
    "                                    ).values()),\n",
    "        'Yellow_2018': list(Counter(main_dataset[\n",
    "                                    (main_dataset['Company'].isin(['Yellow Cab'])) & \n",
    "                                    (main_dataset['Date of Travel'] > datetime.datetime(2017,12,31)) &\n",
    "                                    (main_dataset['Date of Travel'] < datetime.datetime(2018,12,31))].City\n",
    "                                    ).values())\n",
    "    }\n",
    ").plot.barh(x = 'City', stacked = True) #plot stacked Bar graph"
   ]
  },
  {
   "cell_type": "code",
   "execution_count": 58,
   "id": "f56deeff",
   "metadata": {},
   "outputs": [
    {
     "data": {
      "text/plain": [
       "<AxesSubplot:ylabel='City'>"
      ]
     },
     "execution_count": 58,
     "metadata": {},
     "output_type": "execute_result"
    },
    {
     "data": {
      "image/png": "[encoded data removed]",
      "text/plain": [
       "<Figure size 432x288 with 1 Axes>"
      ]
     },
     "metadata": {
      "needs_background": "light"
     },
     "output_type": "display_data"
    }
   ],
   "source": [
    "#create DataFrame based on Pink Cab's Annual Transactions (2016, 2017, 2018)\n",
    "pd.DataFrame(\n",
    "    {   \n",
    "        'City':         list(Counter(main_dataset[\n",
    "                                    (main_dataset['Company'].isin(['Pink Cab'])) & \n",
    "                                    (main_dataset['Date of Travel'] < datetime.datetime(2017,12,31))].City\n",
    "                                    )), \n",
    "        'Pink_2016': list(Counter(main_dataset[\n",
    "                                    (main_dataset['Company'].isin(['Pink Cab'])) & \n",
    "                                    (main_dataset['Date of Travel'] < datetime.datetime(2016,12,31))].City\n",
    "                                    ).values()),\n",
    "        'Pink_2017': list(Counter(main_dataset[\n",
    "                                    (main_dataset['Company'].isin(['Pink Cab'])) & \n",
    "                                    (main_dataset['Date of Travel'] > datetime.datetime(2016,12,31)) &\n",
    "                                    (main_dataset['Date of Travel'] < datetime.datetime(2017,12,31))].City\n",
    "                                    ).values()),\n",
    "        'Pink_2018': list(Counter(main_dataset[\n",
    "                                    (main_dataset['Company'].isin(['Pink Cab'])) & \n",
    "                                    (main_dataset['Date of Travel'] > datetime.datetime(2017,12,31)) &\n",
    "                                    (main_dataset['Date of Travel'] < datetime.datetime(2018,12,31))].City\n",
    "                                    ).values())\n",
    "    }\n",
    ").plot.barh(x = 'City', stacked = True)"
   ]
  },
  {
   "cell_type": "markdown",
   "id": "4e94ff7d",
   "metadata": {},
   "source": [
    "Results for Hypothesis 5: False."
   ]
  },
  {
   "cell_type": "markdown",
   "id": "26044a36",
   "metadata": {},
   "source": [
    "# Conclusion"
   ]
  },
  {
   "cell_type": "markdown",
   "id": "fe700391",
   "metadata": {},
   "source": [
    "Pink cab is still in transition of joining the market, evident by its smaller market share in comparison to Yellow Cab. This is also evident by its lower price per KM, to serve as an incentive for market disruption.\n",
    "\n",
    "Regardless, based on the analysis, we recommend the best investment to be in Yellow Cab, which demonstrates longer experience in the market sector, with a loyal clientele, & greater margins per prospective transaction."
   ]
  }
 ],
 "metadata": {
  "kernelspec": {
   "display_name": "Python 3 (ipykernel)",
   "language": "python",
   "name": "python3"
  },
  "language_info": {
   "codemirror_mode": {
    "name": "ipython",
    "version": 3
   },
   "file_extension": ".py",
   "mimetype": "text/x-python",
   "name": "python",
   "nbconvert_exporter": "python",
   "pygments_lexer": "ipython3",
   "version": "3.9.7"
  }
 },
 "nbformat": 4,
 "nbformat_minor": 5
}
